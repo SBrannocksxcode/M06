{
 "cells": [
  {
   "cell_type": "code",
   "execution_count": null,
   "id": "ad395c0b",
   "metadata": {
    "lines_to_next_cell": 1
   },
   "outputs": [],
   "source": [
    "import multiprocessing\n",
    "import time\n",
    "import random\n",
    "from datetime import datetime"
   ]
  },
  {
   "cell_type": "code",
   "execution_count": null,
   "id": "f7ddab54",
   "metadata": {
    "lines_to_next_cell": 1
   },
   "outputs": [],
   "source": [
    "def worker_process():\n",
    "    # Generate a random sleep duration between 0 and 1 second\n",
    "    sleep_duration = random.random()\n",
    "    time.sleep(sleep_duration)  # Wait for the random duration\n",
    "\n",
    "    # Get the current time after sleeping\n",
    "    current_time = datetime.now().strftime(\"%Y-%m-%d %H:%M:%S.%f\")\n",
    "\n",
    "    # Print the current time\n",
    "    print(f\"Process {multiprocessing.current_process().name} - Current Time: {current_time}\")"
   ]
  },
  {
   "cell_type": "code",
   "execution_count": null,
   "id": "88483cd4",
   "metadata": {},
   "outputs": [],
   "source": [
    "if __name__ == '__main__':\n",
    "    # Create three separate processes\n",
    "    processes = []\n",
    "    for i in range(3):\n",
    "        process_name = f\"Process-{i+1}\"\n",
    "        process = multiprocessing.Process(name=process_name, target=worker_process)\n",
    "        processes.append(process)\n",
    "        process.start()\n",
    "\n",
    "    # Wait for all processes to complete\n",
    "    for process in processes:\n",
    "        process.join()\n",
    "\n",
    "    print(\"All processes have completed.\")"
   ]
  }
 ],
 "metadata": {
  "jupytext": {
   "cell_metadata_filter": "-all",
   "main_language": "python",
   "notebook_metadata_filter": "-all"
  }
 },
 "nbformat": 4,
 "nbformat_minor": 5
}
