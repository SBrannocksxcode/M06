{
 "cells": [
  {
   "cell_type": "code",
   "execution_count": null,
   "id": "37a589e6",
   "metadata": {},
   "outputs": [],
   "source": [
    "import datetime"
   ]
  },
  {
   "cell_type": "code",
   "execution_count": null,
   "id": "79587545",
   "metadata": {},
   "outputs": [],
   "source": [
    "# 13.1 Write the current date as a string to the text file today.txt\n",
    "current_date_string = datetime.datetime.now().strftime(\"%Y-%m-%d\")"
   ]
  },
  {
   "cell_type": "code",
   "execution_count": null,
   "id": "9fe9486b",
   "metadata": {},
   "outputs": [],
   "source": [
    "with open(\"today.txt\", \"w\") as file:\n",
    "    file.write(current_date_string)"
   ]
  },
  {
   "cell_type": "code",
   "execution_count": null,
   "id": "fb14b27b",
   "metadata": {},
   "outputs": [],
   "source": [
    "print(\"Current date written to today.txt:\", current_date_string)"
   ]
  },
  {
   "cell_type": "code",
   "execution_count": null,
   "id": "df7f59c5",
   "metadata": {},
   "outputs": [],
   "source": [
    "# 13.2 Read the text file today.txt into the string today_string\n",
    "with open(\"today.txt\", \"r\") as file:\n",
    "    today_string = file.read().strip()  # Remove extra whitespace or newline"
   ]
  },
  {
   "cell_type": "code",
   "execution_count": null,
   "id": "b5723d45",
   "metadata": {},
   "outputs": [],
   "source": [
    "print(\"Read from today.txt:\", today_string)"
   ]
  },
  {
   "cell_type": "code",
   "execution_count": null,
   "id": "16766511",
   "metadata": {},
   "outputs": [],
   "source": [
    "# 13.3 Parse the date from today_string\n",
    "parsed_date = datetime.datetime.strptime(today_string, \"%Y-%m-%d\")"
   ]
  },
  {
   "cell_type": "code",
   "execution_count": null,
   "id": "d1853ae2",
   "metadata": {},
   "outputs": [],
   "source": [
    "print(\"Parsed Date:\", parsed_date)"
   ]
  }
 ],
 "metadata": {
  "jupytext": {
   "cell_metadata_filter": "-all",
   "main_language": "python",
   "notebook_metadata_filter": "-all"
  }
 },
 "nbformat": 4,
 "nbformat_minor": 5
}
